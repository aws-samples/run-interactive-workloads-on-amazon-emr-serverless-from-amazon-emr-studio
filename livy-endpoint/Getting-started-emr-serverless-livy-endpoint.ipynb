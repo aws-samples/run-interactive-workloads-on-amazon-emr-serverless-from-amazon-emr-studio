{
 "cells": [
  {
   "cell_type": "markdown",
   "id": "1f7439a3",
   "metadata": {},
   "source": [
    "# Get started with EMR Serverless on EMR Studio"
   ]
  },
  {
   "cell_type": "markdown",
   "id": "e283e844",
   "metadata": {},
   "source": [
    "#### Topics covered in this example\n",
    "<ol>\n",
    "    <li> Configure a Spark session </li>\n",
    "    <li> Import a library to help with plot </li>\n",
    "    <li> Spark DataFrames: reading a public dataset, selecting data and writing to a S3 location </li>\n",
    "    <li> Spark SQL: creating a new view and selecting data </li>\n",
    "    <li> Visualize your data </li>\n",
    "</ol>"
   ]
  },
  {
   "cell_type": "markdown",
   "id": "d16c0e10",
   "metadata": {
    "execution": {
     "iopub.execute_input": "2023-10-16T17:21:25.407818Z",
     "iopub.status.busy": "2023-10-16T17:21:25.407393Z",
     "iopub.status.idle": "2023-10-16T17:21:39.912554Z",
     "shell.execute_reply": "2023-10-16T17:21:39.911928Z",
     "shell.execute_reply.started": "2023-10-16T17:21:25.407789Z"
    }
   },
   "source": [
    "***\n",
    "\n",
    "## Prerequisites\n",
    "<div class=\"alert alert-block alert-info\">\n",
    "<b>NOTE :</b> In order to execute this notebook successfully as is, please ensure the following prerequisites are completed.</div>\n",
    "\n",
    "* EMR Serverless should be chosen as the Compute.\n",
    "* Make sure the Studio user role has permission to attach the Workspace to the Application and to pass the runtime role to it.\n",
    "* This notebook uses the `PySpark` kernel.\n",
    "* Your Serverless Application must be configured with a VPC that has internet connectivity. [Learn more](https://docs.aws.amazon.com/emr/latest/EMR-Serverless-UserGuide/vpc-access.html)\n",
    "***"
   ]
  },
  {
   "cell_type": "markdown",
   "id": "8af6027b",
   "metadata": {},
   "source": [
    "## 1. Configure your Spark session.\n",
    "First we specify an execution role. Make sure you replace the <<account-id>> in the cell below. If you have a different name for your role, replace the role ARN as applicable.\n",
    "Configure the Spark Session to use Virtualenv. Virtualenv is needed to install other Python packages."
   ]
  },
  {
   "cell_type": "code",
   "execution_count": 1,
   "id": "24ce8423",
   "metadata": {
    "execution": {
     "iopub.execute_input": "2023-11-27T21:23:01.545472Z",
     "iopub.status.busy": "2023-11-27T21:23:01.545009Z",
     "iopub.status.idle": "2023-11-27T21:23:02.624045Z",
     "shell.execute_reply": "2023-11-27T21:23:02.623271Z",
     "shell.execute_reply.started": "2023-11-27T21:23:01.545435Z"
    },
    "tags": []
   },
   "outputs": [
    {
     "data": {
      "text/html": [
       "Current session configs: <tt>{'conf': {'spark.pyspark.virtualenv.enabled': 'true', 'spark.pyspark.virtualenv.bin.path': '/usr/bin/virtualenv', 'spark.pyspark.virtualenv.type': 'native', 'spark.pyspark.python': '/usr/bin/python3', 'spark.executorEnv.PYSPARK_PYTHON': '/usr/bin/python3'}, 'driverMemory': '14G', 'driverCores': 4, 'executorMemory': '14G', 'executorCores': 4, 'numExecutors': 3, 'proxyUser': 'user_sekar', 'kind': 'pyspark'}</tt><br>"
      ],
      "text/plain": [
       "<IPython.core.display.HTML object>"
      ]
     },
     "metadata": {},
     "output_type": "display_data"
    },
    {
     "data": {
      "text/html": [
       "No active sessions."
      ],
      "text/plain": [
       "<IPython.core.display.HTML object>"
      ]
     },
     "metadata": {},
     "output_type": "display_data"
    }
   ],
   "source": [
    "%%configure -f\n",
    "{\n",
    "  \"conf\": {\n",
    "    \"emr-serverless.session.executionRoleArn\": \"arn:aws:iam::<<acount-id>>:role/livyendpointemr\",\n",
    "    \"spark.pyspark.virtualenv.enabled\": \"true\",\n",
    "    \"spark.pyspark.virtualenv.bin.path\": \"/usr/bin/virtualenv\",\n",
    "    \"spark.pyspark.virtualenv.type\": \"native\",\n",
    "    \"spark.pyspark.python\": \"/usr/bin/python3\",\n",
    "    \"spark.executorEnv.PYSPARK_PYTHON\": \"/usr/bin/python3\"\n",
    "  }\n",
    "}\n",
    "\n"
   ]
  },
  {
   "cell_type": "markdown",
   "id": "b2165194",
   "metadata": {},
   "source": [
    "Start a Spark session:"
   ]
  },
  {
   "cell_type": "code",
   "execution_count": 2,
   "id": "d14c84e6",
   "metadata": {
    "execution": {
     "iopub.execute_input": "2023-11-27T21:23:05.176013Z",
     "iopub.status.busy": "2023-11-27T21:23:05.175563Z",
     "iopub.status.idle": "2023-11-27T21:23:24.659684Z",
     "shell.execute_reply": "2023-11-27T21:23:24.658897Z",
     "shell.execute_reply.started": "2023-11-27T21:23:05.175977Z"
    },
    "tags": []
   },
   "outputs": [
    {
     "data": {
      "application/vnd.jupyter.widget-view+json": {
       "model_id": "8dc44ff6d2894062b285e5a04e4f0668",
       "version_major": 2,
       "version_minor": 0
      },
      "text/plain": [
       "VBox()"
      ]
     },
     "metadata": {},
     "output_type": "display_data"
    },
    {
     "name": "stdout",
     "output_type": "stream",
     "text": [
      "Starting Spark application\n"
     ]
    },
    {
     "data": {
      "text/html": [
       "<table>\n",
       "    <tr><th>ID</th><th>Kind</th><th>State</th><th>Spark UI</th><th>Driver log</th><th>User</th><th>Current session?</th></tr><tr><td>0</td><td>pyspark</td><td>idle</td><td><a target=\"_blank\" href=\"https://spark-live-ui.emr-serverless.amazonaws.com\" class=\"emr-proxy-link\" emr-runtime=\"emr-serverless\" emr-resource=\"00ff2t9v3htlc10a\" application-id=\"00feus3d9ua0oh09\">Link</a></td><td></td><td>None</td><td>✔</td></tr></table>"
      ],
      "text/plain": [
       "<IPython.core.display.HTML object>"
      ]
     },
     "metadata": {},
     "output_type": "display_data"
    },
    {
     "data": {
      "application/vnd.jupyter.widget-view+json": {
       "model_id": "",
       "version_major": 2,
       "version_minor": 0
      },
      "text/plain": [
       "FloatProgress(value=0.0, bar_style='info', description='Progress:', layout=Layout(height='25px', width='50%'),…"
      ]
     },
     "metadata": {},
     "output_type": "display_data"
    },
    {
     "name": "stdout",
     "output_type": "stream",
     "text": [
      "SparkSession available as 'spark'.\n"
     ]
    },
    {
     "data": {
      "application/vnd.jupyter.widget-view+json": {
       "model_id": "",
       "version_major": 2,
       "version_minor": 0
      },
      "text/plain": [
       "FloatProgress(value=0.0, bar_style='info', description='Progress:', layout=Layout(height='25px', width='50%'),…"
      ]
     },
     "metadata": {},
     "output_type": "display_data"
    },
    {
     "name": "stdout",
     "output_type": "stream",
     "text": [
      "<pyspark.sql.session.SparkSession object at 0x7fd95c7f3a90>"
     ]
    }
   ],
   "source": [
    "spark"
   ]
  },
  {
   "cell_type": "markdown",
   "id": "1ea0659c",
   "metadata": {},
   "source": [
    "Run the `%%info` magic command which shows the Spark configuration for the current session as well as provides links to navigate to the live Spark UI for the session:"
   ]
  },
  {
   "cell_type": "code",
   "execution_count": 3,
   "id": "4148b249",
   "metadata": {
    "execution": {
     "iopub.execute_input": "2023-11-27T21:23:31.703505Z",
     "iopub.status.busy": "2023-11-27T21:23:31.703072Z",
     "iopub.status.idle": "2023-11-27T21:23:33.495666Z",
     "shell.execute_reply": "2023-11-27T21:23:33.494862Z",
     "shell.execute_reply.started": "2023-11-27T21:23:31.703475Z"
    },
    "tags": []
   },
   "outputs": [
    {
     "data": {
      "text/html": [
       "Current session configs: <tt>{'conf': {'spark.pyspark.virtualenv.enabled': 'true', 'spark.pyspark.virtualenv.bin.path': '/usr/bin/virtualenv', 'spark.pyspark.virtualenv.type': 'native', 'spark.pyspark.python': '/usr/bin/python3', 'spark.executorEnv.PYSPARK_PYTHON': '/usr/bin/python3'}, 'driverMemory': '14G', 'driverCores': 4, 'executorMemory': '14G', 'executorCores': 4, 'numExecutors': 3, 'proxyUser': 'user_sekar', 'kind': 'pyspark'}</tt><br>"
      ],
      "text/plain": [
       "<IPython.core.display.HTML object>"
      ]
     },
     "metadata": {},
     "output_type": "display_data"
    },
    {
     "data": {
      "text/html": [
       "<table>\n",
       "    <tr><th>ID</th><th>Kind</th><th>State</th><th>Spark UI</th><th>Driver log</th><th>User</th><th>Current session?</th></tr><tr><td>0</td><td>pyspark</td><td>idle</td><td><a target=\"_blank\" href=\"https://spark-live-ui.emr-serverless.amazonaws.com\" class=\"emr-proxy-link\" emr-runtime=\"emr-serverless\" emr-resource=\"00ff2t9v3htlc10a\" application-id=\"00feus3d9ua0oh09\">Link</a></td><td></td><td>None</td><td>✔</td></tr></table>"
      ],
      "text/plain": [
       "<IPython.core.display.HTML object>"
      ]
     },
     "metadata": {},
     "output_type": "display_data"
    }
   ],
   "source": [
    "%%info"
   ]
  },
  {
   "cell_type": "markdown",
   "id": "02facc47",
   "metadata": {},
   "source": [
    "---\n",
    "## 2. Install packages from PyPI\n",
    "We will install matplotlib Python package. \n",
    "<div class=\"alert alert-block alert-info\">\n",
    "<b>NOTE :</b> You will need internet access to do this step.</div>"
   ]
  },
  {
   "cell_type": "code",
   "execution_count": 4,
   "id": "bd12d484",
   "metadata": {
    "execution": {
     "iopub.execute_input": "2023-11-27T21:23:53.043902Z",
     "iopub.status.busy": "2023-11-27T21:23:53.043448Z",
     "iopub.status.idle": "2023-11-27T21:24:08.521262Z",
     "shell.execute_reply": "2023-11-27T21:24:08.520616Z",
     "shell.execute_reply.started": "2023-11-27T21:23:53.043871Z"
    },
    "tags": []
   },
   "outputs": [
    {
     "data": {
      "application/vnd.jupyter.widget-view+json": {
       "model_id": "eb77f8879e7642d39a6a1acda6331025",
       "version_major": 2,
       "version_minor": 0
      },
      "text/plain": [
       "VBox()"
      ]
     },
     "metadata": {},
     "output_type": "display_data"
    },
    {
     "data": {
      "application/vnd.jupyter.widget-view+json": {
       "model_id": "",
       "version_major": 2,
       "version_minor": 0
      },
      "text/plain": [
       "FloatProgress(value=0.0, bar_style='info', description='Progress:', layout=Layout(height='25px', width='50%'),…"
      ]
     },
     "metadata": {},
     "output_type": "display_data"
    },
    {
     "name": "stdout",
     "output_type": "stream",
     "text": [
      "Collecting matplotlib\n",
      "  Downloading matplotlib-3.5.3-cp37-cp37m-manylinux_2_5_x86_64.manylinux1_x86_64.whl (11.2 MB)\n",
      "Requirement already satisfied: numpy>=1.17 in /app/usr/local/lib64/python3.7/site-packages (from matplotlib) (1.21.6)\n",
      "Collecting packaging>=20.0\n",
      "  Downloading packaging-23.2-py3-none-any.whl (53 kB)\n",
      "Requirement already satisfied: python-dateutil>=2.7 in /app/usr/local/lib/python3.7/site-packages (from matplotlib) (2.8.2)\n",
      "Collecting pyparsing>=2.2.1\n",
      "  Downloading pyparsing-3.1.1-py3-none-any.whl (103 kB)\n",
      "Collecting cycler>=0.10\n",
      "  Downloading cycler-0.11.0-py3-none-any.whl (6.4 kB)\n",
      "Collecting kiwisolver>=1.0.1\n",
      "  Downloading kiwisolver-1.4.5-cp37-cp37m-manylinux_2_5_x86_64.manylinux1_x86_64.whl (1.1 MB)\n",
      "Collecting pillow>=6.2.0\n",
      "  Downloading Pillow-9.5.0-cp37-cp37m-manylinux_2_17_x86_64.manylinux2014_x86_64.whl (3.3 MB)\n",
      "Collecting fonttools>=4.22.0\n",
      "  Downloading fonttools-4.38.0-py3-none-any.whl (965 kB)\n",
      "Requirement already satisfied: six>=1.5 in /app/usr/local/lib/python3.7/site-packages (from python-dateutil>=2.7->matplotlib) (1.16.0)\n",
      "Collecting typing-extensions; python_version < \"3.8\"\n",
      "  Downloading typing_extensions-4.7.1-py3-none-any.whl (33 kB)\n",
      "Installing collected packages: packaging, pyparsing, cycler, typing-extensions, kiwisolver, pillow, fonttools, matplotlib\n",
      "Successfully installed cycler-0.11.0 fonttools-4.38.0 kiwisolver-1.4.5 matplotlib-3.5.3 packaging-23.2 pillow-9.5.0 pyparsing-3.1.1 typing-extensions-4.7.1"
     ]
    }
   ],
   "source": [
    "sc.install_pypi_package(\"matplotlib\")"
   ]
  },
  {
   "cell_type": "markdown",
   "id": "26a5516b",
   "metadata": {},
   "source": [
    "---\n",
    "## 3. Read data from S3\n",
    "We will use a public data set on NYC yellow taxis. Read the Parquet file from S3. The file has headers and we want Spark to infer the schema. \n",
    "<div class=\"alert alert-block alert-info\">\n",
    "<b>NOTE :</b> You will need to update your runtime role to allow Get access to the s3://athena-examples-us-east-1/notebooks/ folder and its sub-folders.</div>"
   ]
  },
  {
   "cell_type": "code",
   "execution_count": 5,
   "id": "34e4291d",
   "metadata": {
    "execution": {
     "iopub.execute_input": "2023-11-27T21:25:57.498311Z",
     "iopub.status.busy": "2023-11-27T21:25:57.497847Z",
     "iopub.status.idle": "2023-11-27T21:26:02.924950Z",
     "shell.execute_reply": "2023-11-27T21:26:02.924275Z",
     "shell.execute_reply.started": "2023-11-27T21:25:57.498277Z"
    },
    "tags": []
   },
   "outputs": [
    {
     "data": {
      "application/vnd.jupyter.widget-view+json": {
       "model_id": "78f5ff39fb42495aa6759e704a349ffe",
       "version_major": 2,
       "version_minor": 0
      },
      "text/plain": [
       "VBox()"
      ]
     },
     "metadata": {},
     "output_type": "display_data"
    },
    {
     "data": {
      "application/vnd.jupyter.widget-view+json": {
       "model_id": "",
       "version_major": 2,
       "version_minor": 0
      },
      "text/plain": [
       "FloatProgress(value=0.0, bar_style='info', description='Progress:', layout=Layout(height='25px', width='50%'),…"
      ]
     },
     "metadata": {},
     "output_type": "display_data"
    }
   ],
   "source": [
    "file_name = \"s3://athena-examples-us-east-1/notebooks/yellow_tripdata_2016-01.parquet\"\n",
    "\n",
    "taxi_df = (spark.read.format(\"parquet\").option(\"header\", \"true\") \\\n",
    "           .option(\"inferSchema\", \"true\").load(file_name))"
   ]
  },
  {
   "cell_type": "markdown",
   "id": "8f910a35",
   "metadata": {},
   "source": [
    "#### Use Spark Dataframe to group and count specific column from taxi_df"
   ]
  },
  {
   "cell_type": "code",
   "execution_count": 5,
   "id": "6c66389d",
   "metadata": {
    "execution": {
     "iopub.execute_input": "2023-11-27T20:27:26.535060Z",
     "iopub.status.busy": "2023-11-27T20:27:26.534619Z",
     "iopub.status.idle": "2023-11-27T20:27:33.921482Z",
     "shell.execute_reply": "2023-11-27T20:27:33.920861Z",
     "shell.execute_reply.started": "2023-11-27T20:27:26.535029Z"
    },
    "tags": []
   },
   "outputs": [
    {
     "data": {
      "application/vnd.jupyter.widget-view+json": {
       "model_id": "46b950b78757429baad4257b2f081ab2",
       "version_major": 2,
       "version_minor": 0
      },
      "text/plain": [
       "VBox()"
      ]
     },
     "metadata": {},
     "output_type": "display_data"
    },
    {
     "data": {
      "application/vnd.jupyter.widget-view+json": {
       "model_id": "",
       "version_major": 2,
       "version_minor": 0
      },
      "text/plain": [
       "FloatProgress(value=0.0, bar_style='info', description='Progress:', layout=Layout(height='25px', width='50%'),…"
      ]
     },
     "metadata": {},
     "output_type": "display_data"
    },
    {
     "name": "stdout",
     "output_type": "stream",
     "text": [
      "+--------+---------------+-------+\n",
      "|VendorID|passenger_count|  count|\n",
      "+--------+---------------+-------+\n",
      "|       1|              0|    302|\n",
      "|       2|              8|     26|\n",
      "|       2|              7|     19|\n",
      "|       2|              0|    217|\n",
      "|       1|              2| 689189|\n",
      "|       2|              1|3596032|\n",
      "|       1|              4|  83816|\n",
      "|       2|              3| 272172|\n",
      "|       1|              7|      3|\n",
      "|       2|              4| 126822|\n",
      "|       2|              2| 872545|\n",
      "|       1|              9|     10|\n",
      "|       2|              6| 367745|\n",
      "|       1|              3| 164242|\n",
      "|       2|              5| 598678|\n",
      "|       2|              9|     13|\n",
      "|       1|              5|   2360|\n",
      "|       1|              1|4129474|\n",
      "|       1|              6|   1402|\n",
      "+--------+---------------+-------+"
     ]
    }
   ],
   "source": [
    "taxi1_df = taxi_df.groupBy(\"VendorID\", \"passenger_count\").count()\n",
    "taxi1_df.show()"
   ]
  },
  {
   "cell_type": "markdown",
   "id": "6f8a3889",
   "metadata": {},
   "source": [
    "---\n",
    "## 4. Run Spark SQL commands\n",
    "#### Create a new temporary view taxis. Use Spark SQL to select data from this view. Create a taxi dataframe for further processing"
   ]
  },
  {
   "cell_type": "code",
   "execution_count": 9,
   "id": "d34e2a59",
   "metadata": {
    "execution": {
     "iopub.execute_input": "2023-11-26T15:28:58.459127Z",
     "iopub.status.busy": "2023-11-26T15:28:58.458689Z",
     "iopub.status.idle": "2023-11-26T15:29:00.961139Z",
     "shell.execute_reply": "2023-11-26T15:29:00.960415Z",
     "shell.execute_reply.started": "2023-11-26T15:28:58.459095Z"
    },
    "tags": []
   },
   "outputs": [
    {
     "data": {
      "application/vnd.jupyter.widget-view+json": {
       "model_id": "106d6237af14499891c2eebf08600cce",
       "version_major": 2,
       "version_minor": 0
      },
      "text/plain": [
       "VBox()"
      ]
     },
     "metadata": {},
     "output_type": "display_data"
    },
    {
     "data": {
      "application/vnd.jupyter.widget-view+json": {
       "model_id": "",
       "version_major": 2,
       "version_minor": 0
      },
      "text/plain": [
       "FloatProgress(value=0.0, bar_style='info', description='Progress:', layout=Layout(height='25px', width='50%'),…"
      ]
     },
     "metadata": {},
     "output_type": "display_data"
    },
    {
     "name": "stdout",
     "output_type": "stream",
     "text": [
      "+------------+------------------+\n",
      "|DOLocationID|  sum_total_amount|\n",
      "+------------+------------------+\n",
      "|           1|1453786.2200001795|\n",
      "|           2|385.19000000000005|\n",
      "|           3|28310.589999999847|\n",
      "|           4| 797281.7500003201|\n",
      "|           5| 5842.680000000003|\n",
      "+------------+------------------+\n",
      "only showing top 5 rows"
     ]
    }
   ],
   "source": [
    "taxi_df.createOrReplaceTempView(\"taxis\")\n",
    "\n",
    "sqlDF = spark.sql(\n",
    "    \"SELECT DOLocationID, sum(total_amount) as sum_total_amount \\\n",
    "     FROM taxis where DOLocationID < 25 Group by DOLocationID ORDER BY DOLocationID\"\n",
    ")\n",
    "sqlDF.show(5)"
   ]
  },
  {
   "cell_type": "markdown",
   "id": "ea77d28f",
   "metadata": {},
   "source": [
    "Use %%sql magic"
   ]
  },
  {
   "cell_type": "code",
   "execution_count": null,
   "id": "ecbeea32",
   "metadata": {},
   "outputs": [],
   "source": [
    "%%sql\n",
    "SHOW DATABASES"
   ]
  },
  {
   "cell_type": "code",
   "execution_count": 12,
   "id": "6ae300cf-6803-4d57-a488-193c1964ad07",
   "metadata": {
    "execution": {
     "iopub.execute_input": "2023-11-26T15:46:23.700104Z",
     "iopub.status.busy": "2023-11-26T15:46:23.699677Z",
     "iopub.status.idle": "2023-11-26T15:46:31.120571Z",
     "shell.execute_reply": "2023-11-26T15:46:31.119880Z",
     "shell.execute_reply.started": "2023-11-26T15:46:23.700070Z"
    }
   },
   "outputs": [
    {
     "data": {
      "application/vnd.jupyter.widget-view+json": {
       "model_id": "",
       "version_major": 2,
       "version_minor": 0
      },
      "text/plain": [
       "FloatProgress(value=0.0, bar_style='info', description='Progress:', layout=Layout(height='25px', width='50%'),…"
      ]
     },
     "metadata": {},
     "output_type": "display_data"
    },
    {
     "data": {
      "application/vnd.jupyter.widget-view+json": {
       "model_id": "",
       "version_major": 2,
       "version_minor": 0
      },
      "text/plain": [
       "FloatProgress(value=0.0, bar_style='info', description='Progress:', layout=Layout(height='25px', width='50%'),…"
      ]
     },
     "metadata": {},
     "output_type": "display_data"
    }
   ],
   "source": [
    "%%spark -o sqlDF"
   ]
  },
  {
   "cell_type": "code",
   "execution_count": 13,
   "id": "1aadbcaa-dbfa-4b13-afae-d98f1dd1367a",
   "metadata": {
    "execution": {
     "iopub.execute_input": "2023-11-26T15:48:11.737924Z",
     "iopub.status.busy": "2023-11-26T15:48:11.737495Z",
     "iopub.status.idle": "2023-11-26T15:48:13.463679Z",
     "shell.execute_reply": "2023-11-26T15:48:13.462988Z",
     "shell.execute_reply.started": "2023-11-26T15:48:11.737890Z"
    },
    "tags": []
   },
   "outputs": [
    {
     "data": {
      "image/png": "[encoded data removed]",
      "text/plain": [
       "<Figure size 640x480 with 1 Axes>"
      ]
     },
     "metadata": {},
     "output_type": "display_data"
    }
   ],
   "source": [
    "%%local\n",
    "import matplotlib.pyplot as plt\n",
    "import numpy as np\n",
    "import pandas as pd\n",
    "\n",
    "plt.clf()\n",
    "plt.bar(sqlDF.DOLocationID, sqlDF.sum_total_amount)\n",
    "plt.show()"
   ]
  },
  {
   "cell_type": "markdown",
   "id": "08a44bb0",
   "metadata": {},
   "source": [
    "---\n",
    "## 5. Visualize your data using Python \n",
    "#### Use matplotlib to plot the drop off location and the total amount as a bar chart"
   ]
  },
  {
   "cell_type": "code",
   "execution_count": null,
   "id": "fef525f5",
   "metadata": {},
   "outputs": [],
   "source": [
    "import matplotlib.pyplot as plt\n",
    "import numpy as np\n",
    "import pandas as pd\n",
    "\n",
    "plt.clf()\n",
    "df = sqlDF.toPandas()\n",
    "plt.bar(df.DOLocationID, df.sum_total_amount)\n",
    "%matplot plt"
   ]
  },
  {
   "cell_type": "code",
   "execution_count": 12,
   "id": "55a68697-a298-4cf2-807b-90b24106bb41",
   "metadata": {
    "execution": {
     "iopub.execute_input": "2023-11-24T22:58:12.208515Z",
     "iopub.status.busy": "2023-11-24T22:58:12.208072Z",
     "iopub.status.idle": "2023-11-24T22:58:15.592207Z",
     "shell.execute_reply": "2023-11-24T22:58:15.591558Z",
     "shell.execute_reply.started": "2023-11-24T22:58:12.208486Z"
    },
    "tags": []
   },
   "outputs": [
    {
     "data": {
      "application/vnd.jupyter.widget-view+json": {
       "model_id": "",
       "version_major": 2,
       "version_minor": 0
      },
      "text/plain": [
       "FloatProgress(value=0.0, bar_style='info', description='Progress:', layout=Layout(height='25px', width='50%'),…"
      ]
     },
     "metadata": {},
     "output_type": "display_data"
    },
    {
     "data": {
      "application/vnd.jupyter.widget-view+json": {
       "model_id": "",
       "version_major": 2,
       "version_minor": 0
      },
      "text/plain": [
       "FloatProgress(value=0.0, bar_style='info', description='Progress:', layout=Layout(height='25px', width='50%'),…"
      ]
     },
     "metadata": {},
     "output_type": "display_data"
    }
   ],
   "source": [
    "%%spark -o df\n",
    "df = sqlDF"
   ]
  },
  {
   "cell_type": "code",
   "execution_count": 9,
   "id": "43980cc1-0d38-4e14-a037-f63cb1a34f0f",
   "metadata": {
    "execution": {
     "iopub.execute_input": "2023-11-24T22:54:42.542954Z",
     "iopub.status.busy": "2023-11-24T22:54:42.542518Z",
     "iopub.status.idle": "2023-11-24T22:54:44.233514Z",
     "shell.execute_reply": "2023-11-24T22:54:44.232839Z",
     "shell.execute_reply.started": "2023-11-24T22:54:42.542925Z"
    }
   },
   "outputs": [
    {
     "data": {
      "image/png": "[encoded data removed]",
      "text/plain": [
       "<Figure size 640x480 with 1 Axes>"
      ]
     },
     "metadata": {},
     "output_type": "display_data"
    }
   ],
   "source": [
    "%%local\n",
    "import matplotlib.pyplot as plt\n",
    "import numpy as np\n",
    "import pandas as pd\n",
    "\n",
    "plt.clf()\n",
    "# df = sqlDF.toPandas()\n",
    "plt.bar(df.DOLocationID, df.sum_total_amount)\n",
    "plt.show()"
   ]
  },
  {
   "cell_type": "markdown",
   "id": "0ec35ea5",
   "metadata": {},
   "source": [
    "### You have made it to the end of the demo notebook!!"
   ]
  }
 ],
 "metadata": {
  "kernelspec": {
   "display_name": "PySpark",
   "language": "python",
   "name": "spark_magic_pyspark"
  },
  "language_info": {
   "codemirror_mode": {
    "name": "python",
    "version": 3
   },
   "file_extension": ".py",
   "mimetype": "text/x-python",
   "name": "pyspark",
   "pygments_lexer": "python3"
  }
 },
 "nbformat": 4,
 "nbformat_minor": 5
}
